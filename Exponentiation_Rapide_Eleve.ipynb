{
 "cells": [
  {
   "cell_type": "markdown",
   "id": "1ea51db2",
   "metadata": {},
   "source": [
    "## Complexité des algorithmes - Exponentiation\n",
    "On propose, dans ce TP, de comparer deux algorithmes permettant de calculer $n^k$ avec $(n,k) \\in (\\N \\dot \\N)$. Ces deux algorithmes sont présentés ci-dessous (tiré de http://www.bibmath.net/dico/index.php?action=affiche&quoi=./e/exponentiationrapide.html).\n",
    "\n",
    "#### Algorithme 1\n",
    "```bash\n",
    "ENTREE : n un entier strictement positif, k un entier naturel\n",
    "SORTIE : n puissance k\n",
    "DEBUT\n",
    "    i ← 0\n",
    "    resultat ← 1\n",
    "    TANT QUE i != k FAIRE\n",
    "        resultat ← resultat * n\n",
    "        i ← i + 1\n",
    "    FIN TANT QUE\n",
    "    RENVOYER résultat\n",
    "FIN\n",
    "```\n",
    "\n",
    "#### Algorithme 2\n",
    "```bash\n",
    "ENTREE : n un entier strictement positif, k un entier naturel\n",
    "SORTIE : n puissance k\n",
    "DEBUT\n",
    "    puissance ← n\n",
    "    resultat ← 1\n",
    "    TANT QUE k != 0\n",
    "        SI k est impair FAIRE\n",
    "            resultat ← resultat * puissance\n",
    "        FIN SI\n",
    "        puissance ← puissance * puissance\n",
    "        k ← partie entière de la division euclidienne de k par 2\n",
    "    FIN TANT QUE\n",
    "    RENVOYER resultat\n",
    "FIN\n",
    "```\n",
    "\n",
    "On appelle $T_1 (k)$ et $T_2 (k)$ le nombre d’opérations nécessaires pour réaliser le calcul de $n^k$ avec l’algorithme 1 et 2 respectivement."
   ]
  },
  {
   "cell_type": "markdown",
   "id": "c980a740",
   "metadata": {},
   "source": [
    "#### Question 1.\n",
    "Programmer ces deux algorithmes dans deux fonctions Python différentes. Vérifier qu’elles renvoient les mêmes résultats."
   ]
  },
  {
   "cell_type": "markdown",
   "id": "4e55fef9",
   "metadata": {},
   "source": [
    "#### Question 2.\n",
    "Modifier ces deux fonctions pour qu’elles renvoient le nombre d’opérations nécessaires (additions/soustractions/multiplications/divisions) à la réalisation de l’algorithme."
   ]
  },
  {
   "cell_type": "markdown",
   "id": "602dbd51",
   "metadata": {},
   "source": [
    "#### Question 3.\n",
    "Sur un graphique maptloblib, pour $n=2$, tracer $T_1 (k)$ et $T_2 (k)$   pour $k \\in ⟦1,40⟧$. Déterminer la complexité algorithmique des deux algorithmes. Vous tracerez la fonction dominante permettant de justifier la complexité en $O$ (notation Landau)."
   ]
  }
 ],
 "metadata": {
  "kernelspec": {
   "display_name": "Python 3 (ipykernel)",
   "language": "python",
   "name": "python3"
  },
  "language_info": {
   "codemirror_mode": {
    "name": "ipython",
    "version": 3
   },
   "file_extension": ".py",
   "mimetype": "text/x-python",
   "name": "python",
   "nbconvert_exporter": "python",
   "pygments_lexer": "ipython3",
   "version": "3.9.0"
  }
 },
 "nbformat": 4,
 "nbformat_minor": 5
}
