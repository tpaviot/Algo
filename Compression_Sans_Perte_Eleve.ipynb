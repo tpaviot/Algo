{
 "cells": [
  {
   "cell_type": "markdown",
   "id": "f5397e9c-7894-4e16-98de-aa45aa1cecb9",
   "metadata": {},
   "source": [
    "### Compression de données sans perte. Algorithmes RLE et Huffmann.\n",
    "\n",
    "L'objectif de ce TP est de comparer deux algorithmes de compression de données en terme de :\n",
    "* complexité algorithmique\n",
    "* temps de calcul\n",
    "* performance (taux de compression). Le taux de compression, en pourcents, est défini par :\n",
    "\n",
    "  $ taux\\_compression = 100 \\times \\frac{taille\\_texte\\_comprimé}{texte\\_original}$\n",
    "\n",
    "Le texte à compresser est extrait des Misérables de Victor Hugo :"
   ]
  },
  {
   "cell_type": "code",
   "execution_count": null,
   "id": "e2732fe2-6844-44f5-ae6f-2b23d6772016",
   "metadata": {},
   "outputs": [],
   "source": [
    "texte_miserables = \"\"\"Il entendit un jour conter dans un salon un procès criminel qu'on\n",
    "instruisait et qu'on allait juger. Un misérable homme, par amour pour\n",
    "une femme et pour l'enfant qu'il avait d'elle, à bout de ressources,\n",
    "avait fait de la fausse monnaie. La fausse monnaie était encore punie de\n",
    "mort à cette époque. La femme avait été arrêtée émettant la première\n",
    "pièce fausse fabriquée par l'homme. On la tenait, mais on n'avait de\n",
    "preuves que contre elle. Elle seule pouvait charger son amant et le\n",
    "perdre en avouant. Elle nia. On insista. Elle s'obstina à nier. Sur ce,\n",
    "le procureur du roi avait eu une idée. Il avait supposé une infidélité\n",
    "de l'amant, et était parvenu, avec des fragments de lettres savamment\n",
    "présentés, à persuader à la malheureuse qu'elle avait une rivale et que\n",
    "cet homme la trompait. Alors, exaspérée de jalousie, elle avait dénoncé\n",
    "son amant, tout avoué, tout prouvé. L'homme était perdu. Il allait être\n",
    "prochainement jugé à Aix avec sa complice. On racontait le fait, et\n",
    "chacun s'extasiait sur l'habileté du magistrat. En mettant la jalousie\n",
    "en jeu, il avait fait jaillir la vérité par la colère, il avait fait\n",
    "sortir la justice de la vengeance. L'évêque écoutait tout cela en\n",
    "silence. Quand ce fut fini, il demanda:\n",
    "\n",
    "--Où jugera-t-on cet homme et cette femme?\n",
    "\n",
    "--À la cour d'assises.\n",
    "\n",
    "Il reprit:\n",
    "\n",
    "--Et où jugera-t-on monsieur le procureur du roi?\n",
    "\n",
    "Il arriva à Digne une aventure tragique. Un homme fut condamné à mort\n",
    "pour meurtre. C'était un malheureux pas tout à fait lettré, pas tout à\n",
    "fait ignorant, qui avait été bateleur dans les foires et écrivain\n",
    "public. Le procès occupa beaucoup la ville. La veille du jour fixé pour\n",
    "l'exécution du condamné, l'aumônier de la prison tomba malade. Il\n",
    "fallait un prêtre pour assister le patient à ses derniers moments. On\n",
    "alla chercher le curé. Il paraît qu'il refusa en disant: Cela ne me\n",
    "regarde pas. Je n'ai que faire de cette corvée et de ce saltimbanque;\n",
    "moi aussi, je suis malade; d'ailleurs ce n'est pas là ma place. On\n",
    "rapporta cette réponse à l'évêque qui dit:\n",
    "\n",
    "--Monsieur le curé a raison. Ce n'est pas sa place, c'est la mienne.\"\"\""
   ]
  },
  {
   "cell_type": "markdown",
   "id": "030a2712-af40-4da5-9c03-25ab19be5a60",
   "metadata": {},
   "source": [
    "## Travail préliminaire\n",
    "\n",
    "* Compter le nombre de caractères qui composent ce texte."
   ]
  },
  {
   "cell_type": "code",
   "execution_count": null,
   "id": "0590bcb9-76cd-4615-bfc0-8096181eb1f5",
   "metadata": {},
   "outputs": [],
   "source": [
    "# votre code ici"
   ]
  },
  {
   "cell_type": "markdown",
   "id": "b38da28a-0159-42e9-93c5-2f443a0f8b8d",
   "metadata": {},
   "source": [
    "### Algorithme RLE\n",
    "\n",
    "L'un des algorithmes de compression sans perte les plus simples est l'algorithme Run-Length Encoding (RLE), également connu sous le nom de codage par longueurs de runs. Il est particulièrement efficace pour compresser des données contenant des répétitions consécutives de caractères ou de symboles.\n",
    "\n",
    "Le principe de base de l'algorithme RLE est le suivant :\n",
    "\n",
    "* Parcourez la séquence de données d'entrée de gauche à droite.\n",
    "* Lorsque vous trouvez une série de caractères identiques consécutifs, comptez leur nombre.\n",
    "* Écrivez le caractère suivi du nombre de fois qu'il apparaît dans la sortie compressée.\n",
    "* Répétez les étapes 2 et 3 jusqu'à ce que vous ayez parcouru toute la séquence d'entrée.\n",
    "\n",
    "Voici un exemple simple :\n",
    "\n",
    "Données d'entrée : \"AAAABBBCCDAA\"\n",
    "\n",
    "Données compressées avec RLE : \"4A3B2C1D2A\"\n",
    "\n",
    "### A noter : on considérera une chaîne de caractères comme une liste de caractères :\n",
    "```python\n",
    "chaine = \"Bonjour\"\n",
    "print(chaine[1])\n",
    ">>> 'o'\n",
    "```"
   ]
  },
  {
   "cell_type": "markdown",
   "id": "3f28cd76-555f-4637-ab3b-477e16a08f18",
   "metadata": {},
   "source": [
    "### Implémentation de l'algorithme RLE pour la compression et la décompression\n",
    "\n",
    "En utilisant l'algorithme RLE, compresser le texte des Misérables. Vous pourrez par exemple code une fonction `compress_RLE` et `uncompress_RLE`.\n",
    "Déterminer le taux de compression obtenu ainsi que la complexité de l'algorithme (dénombrez les opérations et mesurez le temps d'exécution)."
   ]
  },
  {
   "cell_type": "code",
   "execution_count": null,
   "id": "56a8289a-e413-4105-8fe2-012314ec9b7e",
   "metadata": {},
   "outputs": [],
   "source": [
    "# votre code ici\n",
    "\n",
    "# Exemple de compression\n",
    "assert compress_RLE(\"AAAABBBCCDAA\") == \"4A3B2C1D2A\""
   ]
  },
  {
   "cell_type": "code",
   "execution_count": null,
   "id": "390a990a-fe48-4638-97c9-cec6896c863e",
   "metadata": {},
   "outputs": [],
   "source": [
    "# votre code ici\n",
    "\n",
    "assert uncompress_RLE(\"4A3B2C1D2A\") == \"AAAABBBCCDAA\""
   ]
  },
  {
   "cell_type": "markdown",
   "id": "a918e6f1-1fcf-4eb1-b080-be4a3424c52d",
   "metadata": {},
   "source": [
    "### Qualification de l'algorithme RLE sur une chaîne aléatoire\n",
    "Compresser une chaîne de caractères composée de 1000 caractères choisis parmi \"A\", \"B\", \"C\" ou \"D\". Pour cela, on utilisera la fonction `random.choice`. Déterminer le taux de compression moyen."
   ]
  },
  {
   "cell_type": "code",
   "execution_count": null,
   "id": "af6ae443-d53c-4276-8ea0-7ea9fa2054ca",
   "metadata": {},
   "outputs": [],
   "source": [
    "# votre code ici"
   ]
  },
  {
   "cell_type": "markdown",
   "id": "e530b35d-9f9a-4c88-8b4b-1d9b1bd2365d",
   "metadata": {},
   "source": [
    "### Qualification de l'algorithme RLE sur une chaîne de caractères en langue française\n",
    "* A l'aide de la fonction `compress_RLE`, comprimer le texte extrait des Misérables\n",
    "* utiliser la fonction `uncompress_RLE` pour le décompresser, et vérifier qu'on retrouve bien le texte original\n",
    "* calcul le taux de compression pour ce texte\n",
    "* que pouvez-vous conclure quant à cet algorithme de compression sans perte, en comparant les performances sur une chaîne aléatoire et sur une chaîne en langue française ?"
   ]
  },
  {
   "cell_type": "code",
   "execution_count": null,
   "id": "19d69b26-4c00-42e0-b351-bb3d24a6fbbf",
   "metadata": {},
   "outputs": [],
   "source": [
    "# votre code ici"
   ]
  },
  {
   "cell_type": "markdown",
   "id": "873aaacf-c0d5-4c60-a434-ab1d078723fd",
   "metadata": {},
   "source": [
    "### Codage Huffman\n",
    "Le codage Huffman est un algorithme de compression qui se base sur le nombre d'occurrences de chaque lette dans un texte. L'objectif est de compresser efficacement un texte en exploitant le fait que les caractères aient une fréquence d'apparition loin d'être uniforme. (Par exemple, le \"e\" est beaucoup plus fréquent que le \"w\", donc on va faire en sorte qu'il prenne moins de place en mémoire).\n",
    "\n",
    "En voici une implémentation python ci-dessous."
   ]
  },
  {
   "cell_type": "code",
   "execution_count": null,
   "id": "796d25e7-965a-4dfb-a92f-bbd6410e305a",
   "metadata": {},
   "outputs": [],
   "source": [
    "def compterOccurences(texte):\n",
    "    \"\"\"\n",
    "    Renvoie une liste qui associe à chaque caractère son nombre d'apparitions.\n",
    "\n",
    "    Chaque lettre est donc dotée d'un poids (son nombre d'occurences), et\n",
    "    plus son poids est élevé, plus elle sera légère en mémoire.\n",
    "    (L'objectif étant ici la compression, donc d'échanger de la puissance\n",
    "    de calcul contre de l'espace de stockage.)\n",
    "    \"\"\"\n",
    "    lettres = [[0, chr(i)] for i in range(256)]\n",
    "    for i in texte:\n",
    "        lettres[ord(i)][0] += 1\n",
    "    return lettres\n",
    "\n",
    "def creerArbre(lettres):\n",
    "    \"\"\"\n",
    "    Crée un arbre binaire à partir des lettres et de leur poids.\n",
    "\n",
    "    On choisit de représenter un arbre de la façon suivante :\n",
    "      * Une feuille est un 2-uplet : le nombre d'occurences et la lettre\n",
    "        On notera que compterOccurences renvoie en fait une liste de feuilles.\n",
    "      * Un noeud est un 3-uplet : la somme des occurences de toutes\n",
    "        les feuilles descendantes, le fils gauche et le fils droit.\n",
    "    Ensuite, on construit l'arbre en piochant les deux noeuds de poids\n",
    "    le plus faible, on en fait un nouveau noeud que l'on remet dans le tas.\n",
    "    On s'arrête dès qu'il reste un unique noeud (qui est l'arbre voulu)\n",
    "    \"\"\"\n",
    "    # On commence par enlever les lettres qui ne sont pas présentes\n",
    "    noeuds = [(k, v) for (k, v) in lettres if k > 0]\n",
    "    # Puis on récupère les deux noeuds (ou feuilles) de poids le plus faible,\n",
    "    # et on en fait un noeud, de poids la somme des deux petits poids\n",
    "    # On boucle tant qu'il y a reste au moins deux noeuds\n",
    "    l = len(noeuds)\n",
    "    while l >= 2:\n",
    "        # Indice et noeud des minima des poids\n",
    "        # (on initialise avec les deux premières valeurs)\n",
    "        petitMin = (0, noeuds[0])\n",
    "        grandMin = (1, noeuds[1])\n",
    "        for i in range(2, l):\n",
    "            if noeuds[i][0] <= petitMin[1][0]:  # poids < petitMin < grandMin\n",
    "                grandMin = petitMin\n",
    "                petitMin = (i, noeuds[i])\n",
    "            elif noeuds[i][0] <= grandMin[1][0]:  # petitMin < poids < grandMin\n",
    "                grandMin = (i, noeuds[i])\n",
    "        nouveauNoeud = (\n",
    "            petitMin[1][0] + grandMin[1][0],\n",
    "            noeuds[petitMin[0]],\n",
    "            noeuds[grandMin[0]]\n",
    "        )\n",
    "        # On enlève les deux noeuds (ou feuilles) précedentes\n",
    "        # et on ajoute le nouveau noeud\n",
    "        noeuds[petitMin[0]] = nouveauNoeud\n",
    "        noeuds.pop(grandMin[0])\n",
    "        # On a au final un noeud de moins (-2 +1)\n",
    "        l -= 1\n",
    "    # À cet instant il ne reste plus qu'un noeud, qui est la racine de\n",
    "    # l'arbre de Huffman\n",
    "    return noeuds[0]\n",
    "\n",
    "def creerDico(arbre):\n",
    "    \"\"\"\n",
    "    Renvoie un dictionnaire {lettre: code binaire}.\n",
    "\n",
    "    On va explorer l'arbre à l'aide d'une file : si on rencontre une feuille,\n",
    "    on la traite, si on rencontre un noeud, on ajoute les deux branches à la file.\n",
    "    Le premier composant d'un élément de la file est le code binaire jusqu'à cet élément,\n",
    "    le second est un noeud ou une feuille.\n",
    "    \"\"\"\n",
    "    fileExploration = [(\"\", arbre)]\n",
    "    dico = {}\n",
    "    l = 1\n",
    "    # On boucle tant que la file n'est pas vide\n",
    "    while l >= 1:\n",
    "        code, truc = fileExploration.pop(0)  # On défile le premier élément\n",
    "        l -= 1\n",
    "        if len(truc) == 2:  # C'est une feuille\n",
    "            dico[truc[1]] = code  # On ajoute la lettre et son code au dico\n",
    "        elif len(truc) == 3:  # C'est un noeud\n",
    "            # On continue l'exploration en respectant la règle pour obtenir le code :\n",
    "            # Gauche -> 0, droite -> 1\n",
    "            fileExploration.append((code + \"0\", truc[1]))\n",
    "            fileExploration.append((code + \"1\", truc[2]))\n",
    "            l += 2\n",
    "    return dico\n",
    "\n",
    "def compress_Huffman(texte):\n",
    "    \"\"\"\n",
    "    On se contente de remplacer les lettres du texte par le code binaire\n",
    "    obtenu à l'aide de la fonction creerDico.\n",
    "    \"\"\"\n",
    "    lettres = compterOccurences(texte)\n",
    "    arbre = creerArbre(lettres)\n",
    "    dico = creerDico(arbre)\n",
    "    texteCompresse = \"\"\n",
    "    for i in texte:\n",
    "        texteCompresse += dico[i]\n",
    "    # On n'oublie pas de renvoyer aussi le dictionnaire,\n",
    "    # sinon il sera impossible de décompresser le texte\n",
    "    return texteCompresse, dico\n",
    "\n",
    "def uncompress_Huffman(texteCompresse, dicoRetourne):\n",
    "    \"\"\"\n",
    "    Décompresse un texte à l'aide de son dico.\n",
    "\n",
    "    Une fois encore, on utilise une file. C'est un outil très puissant\n",
    "    qui permet de ne jamais écrire de fonction récursive. Chaque élément\n",
    "    de la file est un 2-uplet, le premier élément est le texte décompressé\n",
    "    jusque là, le second est le code binaire restant à décompresser.\n",
    "    \"\"\"\n",
    "    # On retourne le dico\n",
    "    dico = {v: k for (k, v) in dicoRetourne.items()}\n",
    "    # Nombre maximum de bits d'un caractère compressé\n",
    "    limite = max(len(k) for k in dico.keys())\n",
    "    fileExploration = [(\"\", texteCompresse)]\n",
    "    l = 1\n",
    "    while l >= 1:\n",
    "        fait, restant = fileExploration.pop(0)  # On défile le premier élément\n",
    "        l -= 1\n",
    "        # On regarde si la décompression est terminée\n",
    "        if restant == \"\":\n",
    "            return fait\n",
    "        # Sinon, on tente de remplacer les i premiers bits de restant par un caractère\n",
    "        i = 0\n",
    "        bits = \"\"\n",
    "        for bit in restant:\n",
    "            bits += bit\n",
    "            i += 1\n",
    "            if i > limite:\n",
    "                # C'est pas la peine de continuer, bits est trop long\n",
    "                # pour correspondre à un caractère\n",
    "                break\n",
    "            elif bits in dico:\n",
    "                # On a la possibilité de remplacer quelques 0 et 1 par un caractère\n",
    "                # alors on le fait, sans pour autant considérer que l'on a choisi\n",
    "                # le bon remplacement\n",
    "                fileExploration.append((fait + dico[bits], restant[i:]))\n",
    "                l += 1\n",
    "                # Puis on continue à explorer les possibilités\n",
    "    # Aucune décompression n'a fonctionné, on ne renvoie rien\n",
    "    return None"
   ]
  },
  {
   "cell_type": "code",
   "execution_count": null,
   "id": "92f5358c-a441-49fe-b191-3d6d695c1cf9",
   "metadata": {},
   "outputs": [],
   "source": [
    "# Par exemple, pour ce texte en \"latin\" :\n",
    "texte = \"Lorem ipsum dolor sit amet, consectetur adipiscing elit. Praesent fermentum aliquam ipsum non vehicula. Sed placerat aliquam aliquet. Donec magna mauris, gravida sed volutpat vitae, molestie at massa. Pellentesque et metus quis lacus tempor placerat. Aliquam erat volutpat. Vivamus dapibus mi nec nisi aliquam, et euismod augue molestie. Nunc interdum.\"\n",
    "# On le compresse\n",
    "texteCompresse, dico = compress_Huffman(texte)\n",
    "print(\"Avant : {} bits / Après : {} bits\".format(len(texte) * 8, len(texteCompresse)))\n",
    "# Avant : 2816 bits / Après : 1522 bits\n",
    "# (On rappelle que 1 octet = 8 bits)"
   ]
  },
  {
   "cell_type": "markdown",
   "id": "b72c19cf-a05f-456e-b668-944857a77342",
   "metadata": {},
   "source": [
    "### Travail demandé pour l'algorithme de Huffman :\n",
    "* vérifier que la compression/décompression fonctionne correctement avec quelques chaînes de vérification ;\n",
    "* compresser la chaine du texte des Misérables et déterminer le taux de compression."
   ]
  },
  {
   "cell_type": "code",
   "execution_count": null,
   "id": "70d79931-0876-459e-aa63-dabfecc84a42",
   "metadata": {},
   "outputs": [],
   "source": [
    "# votre code ici"
   ]
  },
  {
   "cell_type": "markdown",
   "id": "16c1798b-5206-48c1-a0cd-3487133fc092",
   "metadata": {},
   "source": [
    "### Complexité de l'algorithme de Huffman\n",
    "Déterminer la complexité algorithmique de l'algo de Huffman à la fois pour la compression et la décompression. Pour cela :\n",
    "* vous mesurerez soit le nombre d'oéprations, soit le temps requis, pour compresser une chaîne de longueur N caractères choisis au hasard dans l'ensemble de la table ASCII.\n",
    "* vous ferez varier N entre 10 et 20000 (dix mille) par pas de 100 et tracerez un graphique\n",
    "* vous chercherez un dominant puis en déduirez une complexité algorithmique dans la notation $O$.\n",
    "\n",
    "Pour information, pour choisir au hasard des éléments dans une liste, on utilise la fonction `random.choice`, et python donne la liste de tous les caractères ascii avec les instructions :\n",
    "\n",
    "```python\n",
    "import string\n",
    "print(string.printable)\n",
    "```"
   ]
  },
  {
   "cell_type": "code",
   "execution_count": null,
   "id": "3d86d70c-a50d-4572-99f0-919ecc18626a",
   "metadata": {},
   "outputs": [],
   "source": [
    "# votre code ici"
   ]
  },
  {
   "cell_type": "code",
   "execution_count": null,
   "id": "2fa1a096-bbb1-4639-af2c-90aec725cb6a",
   "metadata": {},
   "outputs": [],
   "source": [
    "# votre code ici"
   ]
  },
  {
   "cell_type": "code",
   "execution_count": null,
   "id": "abc7a04c-031c-4451-90b7-9f27b7f84e4d",
   "metadata": {},
   "outputs": [],
   "source": [
    "# votre code ici"
   ]
  },
  {
   "cell_type": "markdown",
   "id": "dfee153a-7e7b-44c8-8d81-d6c9ec84195b",
   "metadata": {},
   "source": [
    "Je constate que la compression, $O(nlogn)$ est beaucoup plus efficace que la décompression $O(n^2)$."
   ]
  },
  {
   "cell_type": "markdown",
   "id": "cedc06ad-6830-4b97-a2d6-3c638617f896",
   "metadata": {},
   "source": [
    "### Anticipation du temps requis pour la compression/décompression du texte complet des Misérables\n",
    "* ouvrir le texte des misérables et déterminer la nombre de caractères\n",
    "* par extrapolation de l'étude précédente, déduire le temps approximatif de compression et décompression\n",
    "* effectuer la compression/décompression puis vérifier votre prédiction.\n",
    "\n",
    "Pour charger le texte, vous utiliserez l'encodage `latin-1`:\n",
    "```python\n",
    "with open('LesMiserables.txt', 'r', encoding='latin-1') as fp:\n",
    "    les_miserables_complet = fp.read()\n",
    "```"
   ]
  },
  {
   "cell_type": "code",
   "execution_count": null,
   "id": "df97bce6-ddcd-441b-9e51-e9cc0aeb1a7b",
   "metadata": {},
   "outputs": [],
   "source": [
    "# votre code ici"
   ]
  },
  {
   "cell_type": "code",
   "execution_count": null,
   "id": "2065e145-ee2c-48b2-9971-2d2a71610fb6",
   "metadata": {},
   "outputs": [],
   "source": [
    "# votre code ici"
   ]
  },
  {
   "cell_type": "markdown",
   "id": "4800821d-0e38-4e5e-a1b6-4901cdf79a69",
   "metadata": {},
   "source": [
    "### Réduction du temps requis : diviser pour mieux régner\n",
    "Afin d'accélérer le processus, on propose de diviser le texte en 10 parties égales, de compresser/décompresser chaque chaîne.\n",
    "* implémenter cette technique\n",
    "* quels sont les impacts (gains ? pertes ?) en terme de taux de compression et de temps de compression/décompression."
   ]
  }
 ],
 "metadata": {
  "kernelspec": {
   "display_name": "Python 3 (ipykernel)",
   "language": "python",
   "name": "python3"
  },
  "language_info": {
   "codemirror_mode": {
    "name": "ipython",
    "version": 3
   },
   "file_extension": ".py",
   "mimetype": "text/x-python",
   "name": "python",
   "nbconvert_exporter": "python",
   "pygments_lexer": "ipython3",
   "version": "3.9.0"
  }
 },
 "nbformat": 4,
 "nbformat_minor": 5
}
