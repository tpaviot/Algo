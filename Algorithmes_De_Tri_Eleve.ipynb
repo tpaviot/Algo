{
 "cells": [
  {
   "cell_type": "markdown",
   "id": "09534300",
   "metadata": {},
   "source": [
    "## Algorithmique - Comparaison d'algorithmes de Tri"
   ]
  },
  {
   "cell_type": "markdown",
   "id": "c3822aac",
   "metadata": {},
   "source": [
    "Un algorithme de tri permet d'organiser une collection d'objets selon une relation d'ordre déterminée. Les objets à trier sont des éléments d'un ensemble muni d'un ordre total, c'est-à-dire qu'il est possible de comparer n'importe lesquels de deux éléments de l'ensemble avec l'opérateur \"supérieur à\" ou \"inférieur à\".\n",
    "\n",
    "D'ensemble muni d'une relation d'ordre : les entiers, les les réels, les dates, les heures, les chaînes de caractère (ordre \"alphabétique\"). Il existe bien d'autres relations d'ordre qui peuvent être très spécifiques (par exemple, dans un jeu de 32 cartes, le classement de la carte la plus faible à la plus forte dépend de la règle du jeu, et différera suivant que l'on joue à la belote ou à la bataille).\n",
    "\n",
    "Un algorithme de tri a pour objectif de classer un ensemble d'éléments suivant cette relation d'ordre, par exemple : du plus petit au plus grand pour un ensemble d'entiers, du plus ancien au plus récent pour un ensemble de dates, classement dans l'ordre alphabétique pour un ensemble de chaînes de caractères.\n",
    "\n",
    "Les algorithmes de tris sont massivement utilisés en informatique. L'amélioration de leurs performances fait l'objet de travaux de développements incessants.\n",
    "\n",
    "Dans ce TP/TD, on cherche à classer dans l'ordre croissant une liste aléatoire d'entiers, en utilisant 3 algorithmes de tri différents : tri à bulle, tri par insertion, tri rapide. L'objectif est de comparer les performances de ces trois algorithmes.    "
   ]
  },
  {
   "cell_type": "markdown",
   "id": "49289eee",
   "metadata": {},
   "source": [
    "### Préparation des données\n",
    "Dans cette cellule préliminaire, on créée une liste aléatoire de $N$ nombres entiers choisis entre $0$ et $N-1$."
   ]
  },
  {
   "cell_type": "markdown",
   "id": "3d6e4b4c-646c-40f6-b194-4082f3e5965c",
   "metadata": {},
   "source": [
    "### Question préliminaire\n",
    "Expliquer, en insérant les commentaires pertinents, ce que fait le code de la cellule suivante."
   ]
  },
  {
   "cell_type": "code",
   "execution_count": 1,
   "id": "9e5f426a",
   "metadata": {},
   "outputs": [
    {
     "name": "stdout",
     "output_type": "stream",
     "text": [
      "Liste de 20 entiers à trier: [16, 10, 13, 14, 6, 0, 19, 2, 17, 18, 11, 1, 5, 8, 7, 4, 9, 15, 3, 12]\n"
     ]
    }
   ],
   "source": [
    "N = 20\n",
    "import random\n",
    "\n",
    "def creer_liste_aleatoire(n):\n",
    "    lst = list(range(n))\n",
    "    random.shuffle(lst)\n",
    "    return lst\n",
    "\n",
    "list_to_sort = creer_liste_aleatoire(N)\n",
    "print(f\"Liste de {N} entiers à trier: {list_to_sort}\")"
   ]
  },
  {
   "cell_type": "markdown",
   "id": "1e5c436f",
   "metadata": {},
   "source": [
    "## Tri par insertion\n",
    "On donne ci-dessous, en pseudo-code, l'algorithme du tri par insertion.\n",
    "```bash\n",
    "POUR (i allant de 0 à n-1) FAIRE\n",
    "\tvaleur ← liste[i]\n",
    "\tj ← i\n",
    "\tTANTQUE ( j > 0 et liste[j-1] > valeur) FAIRE\n",
    "\t\tliste[j] ← liste[j-1]\n",
    "\t\tj ← j-1\n",
    "\tFIN TANTQUE\n",
    "\tliste[j] ← valeur\n",
    "FIN POUR\n",
    "```"
   ]
  },
  {
   "cell_type": "markdown",
   "id": "d425a8b4",
   "metadata": {},
   "source": [
    "### Question 1. \n",
    "Implémenter avec Python l'algorithme précédent dans une fonction `tri_insertion` qui retourne la liste triée. "
   ]
  },
  {
   "cell_type": "code",
   "execution_count": 2,
   "id": "48cea5b3",
   "metadata": {},
   "outputs": [
    {
     "data": {
      "text/plain": [
       "[0, 1, 2, 3, 4, 5, 6, 7, 8, 9, 10, 11, 12, 13, 14, 15, 16, 17, 18, 19]"
      ]
     },
     "execution_count": 2,
     "metadata": {},
     "output_type": "execute_result"
    }
   ],
   "source": [
    "def tri_insertion(liste):\n",
    "    # Votre code ici\n",
    "\n",
    "# vérification\n",
    "tri_insertion(list_to_sort)[0]"
   ]
  },
  {
   "cell_type": "markdown",
   "id": "914d5f9d",
   "metadata": {},
   "source": [
    "### Question 2.\n",
    "Programmer une fonction `test_tri_insertion` qui vérifie que le tri a bien été effectué, c'est-à-dire que chaque élément de la liste est inférieur ou égal à son successeur."
   ]
  },
  {
   "cell_type": "code",
   "execution_count": 3,
   "id": "fbb7e132",
   "metadata": {},
   "outputs": [],
   "source": [
    "def test_tri_insertion():\n",
    "    # votre code ici\n",
    "test_tri_insertion()"
   ]
  },
  {
   "cell_type": "markdown",
   "id": "772abfca",
   "metadata": {},
   "source": [
    "### Question 3.\n",
    "Modifier la fonction `tri_insertion` pour qu'elle retourne, en plus de la liste triée, le nombre d'opérations qui ont été nécessaires (additions, soustractions, multplications, divisions, affectations)."
   ]
  },
  {
   "cell_type": "markdown",
   "id": "fa564287",
   "metadata": {},
   "source": [
    "### Question 4.\n",
    "Tracer sur un graphique l'évolution du nombre d'opérations nécessaires pour faire le tri par insertion d'une liste de N entiers pour N allant de 100 à 1000 par pas de 10."
   ]
  },
  {
   "cell_type": "code",
   "execution_count": 1,
   "id": "32db3e5a",
   "metadata": {},
   "outputs": [],
   "source": [
    "import matplotlib.pyplot as plt\n",
    "\n",
    "liste_N = range(100, 1000, 10)\n",
    "nb_ope_insertion = []\n",
    "\n",
    "# votre code ici"
   ]
  },
  {
   "cell_type": "markdown",
   "id": "1b1ac937",
   "metadata": {},
   "source": [
    "## Tri à bulles\n",
    "On donne ci-dessous, en pseudo-code, l'algorithme du tri à bulles.\n",
    "```bash\n",
    "echange_en_cours ← VRAI\n",
    "TANTQUE (echange_en_cours = VRAI) FAIRE\n",
    "\techange_en_cours ← FAUX\n",
    "\tPOUR j de 0 à n-2 FAIRE\n",
    "\t\tSI liste[j] > liste[j + 1] ALORS\n",
    "\t\t\téchanger liste[j] et liste[j + 1]\n",
    "\t\t\techange_en_cours ← VRAI\n",
    "\t\tFIN SI\n",
    "\tFIN POUR\n",
    "FIN TANTQUE\n",
    "```"
   ]
  },
  {
   "cell_type": "markdown",
   "id": "7b559fb1",
   "metadata": {},
   "source": [
    "### Question 5.\n",
    "Effectuer le même travail que pour le tri par insertion, jusqu'au tracé du graphique."
   ]
  },
  {
   "cell_type": "code",
   "execution_count": 5,
   "id": "4d62dc39",
   "metadata": {},
   "outputs": [
    {
     "data": {
      "text/plain": [
       "[1, 2, 3, 5, 6, 7]"
      ]
     },
     "execution_count": 5,
     "metadata": {},
     "output_type": "execute_result"
    }
   ],
   "source": [
    "# tout d'abord, je programme la fonction qui permet d'effectuer le tri conformément à l'algorithme ci-dessus.\n",
    "def tri_a_bulles(liste):\n",
    "    # votre code ici\n",
    "\n",
    "# vérification\n",
    "tri_a_bulles([6, 5, 7, 3, 1, 2])[0]"
   ]
  },
  {
   "cell_type": "code",
   "execution_count": 6,
   "id": "dd670459",
   "metadata": {},
   "outputs": [],
   "source": [
    "# fonction de test\n",
    "def test_tri_a_bulles():\n",
    "    # votre code ici\n",
    "test_tri_a_bulles()"
   ]
  },
  {
   "cell_type": "code",
   "execution_count": 2,
   "id": "fce93143",
   "metadata": {},
   "outputs": [],
   "source": [
    "# le graphique pour les mêmes valeurs de N, en traçant aussi le tri par insertion\n",
    "\n",
    "liste_N = range(100, 1000, 10)\n",
    "nb_ope_bulles = []\n",
    "\n",
    "# votre code ici"
   ]
  },
  {
   "cell_type": "markdown",
   "id": "1ec8ea39",
   "metadata": {},
   "source": [
    "## Tri rapide\n",
    "Enfin, on donne l'algorithme en pseudo-code d'un troisième algorithme de tri, connu sous le nom de tri rapide ou quick sort.\n",
    "```bash\n",
    "\n",
    "SI nombre_d_element_de_liste = 0 FAIRE:\n",
    "    RENVOYER LISTE\n",
    "\n",
    "pivot ← liste[0]\n",
    "\n",
    "POUR i de 0 à n-1 FAIRE\n",
    "    liste_plus_petit ← []\n",
    "    liste_plus_grand ← []\n",
    "    POUR i de 1 à n:\n",
    "        SI liste[i] <= pivot FAIRE\n",
    "            AJOUTER liste[i] à liste_plus_petit\n",
    "        SINON FAIRE\n",
    "            AJOUTER liste[i] à liste_plus_grand\n",
    "        FIN_SI\n",
    "    APPLIQUER RECURSIVEMENT TRI_RAPIDE sur liste_plus_petit\n",
    "    APPLIQUER RECURSIVEMENT TRI_RAPIDE sur liste_plus_grand\n",
    "    CONCATENER les deux listes\n",
    "    RENVOYER CETTE LISTE\n",
    "FIN POUR\n",
    "```\n",
    "\n",
    "### Question 6.\n",
    "Reprendre le travail précédent pour ce nouvel algorithme de tri."
   ]
  },
  {
   "cell_type": "code",
   "execution_count": 8,
   "id": "1095389b",
   "metadata": {},
   "outputs": [
    {
     "data": {
      "text/plain": [
       "([7, 8, 8, 9, 10, 11, 12], 19)"
      ]
     },
     "execution_count": 8,
     "metadata": {},
     "output_type": "execute_result"
    }
   ],
   "source": [
    "def tri_rapide(input_list):\n",
    "    # votre code ici\n",
    "\n",
    "# vérification\n",
    "tri_rapide([11, 12, 8, 7, 10, 8, 9])"
   ]
  },
  {
   "cell_type": "code",
   "execution_count": null,
   "id": "bb2860bc",
   "metadata": {},
   "outputs": [],
   "source": [
    "# fonction de test\n",
    "def test_tri_rapide():\n",
    "    # votre code ici\n",
    "test_tri_rapide()"
   ]
  },
  {
   "cell_type": "code",
   "execution_count": 4,
   "id": "b0d2ff1f",
   "metadata": {},
   "outputs": [],
   "source": [
    "# finalement, on trace le graphique avec la comparaison des 3 algorithmes\n",
    "# le graphique pour les mêmes valeurs de N, en traçant aussi le tri par insertion\n",
    "\n",
    "# votre code ici"
   ]
  },
  {
   "cell_type": "markdown",
   "id": "074b22e9",
   "metadata": {},
   "source": [
    "## Complexité algorithmique\n",
    "\n",
    "### Question 8.\n",
    "Déterminer la complexité algorithmique des 3 algorithmes précédents. Vous porterez, sur le graphique, un majorant pour justifier votre réponse.\n",
    "\n"
   ]
  },
  {
   "cell_type": "markdown",
   "id": "e14a3eb3",
   "metadata": {},
   "source": [
    "La complexité algorithmique du tri par insertion et du tri à bulle est une complexité quadratique $O(n^2)$. C'est-à-dire que, si l'on considère que $T_{insertion}$ est le nombre d'opérations requis pour le tri par insertion d'une liste de $n$ éléments, alors :\n",
    "\n",
    "$ \\exists n_0 \\in N, \\exists c \\in R, \\forall b \\in R, n>=n_0 \\implies   |T(n)| <= |c \\times n^2|$\n",
    "\n",
    "Pour démontrer la complexité quadratique, trouver par essai/erreur, en traçant le graphique associé, un réel $c$ tel que la fonction $cn²$ soit un majorant asymptotique de $T_{insertion}$. Sur le même graphique, faire le même travail pour $T_{bulle}$.\n",
    "\n",
    "Enfin, sur un autre graphique, démontrer de la même manière que la complexité algorithmique du tri rapide est $O(nlog(n))$."
   ]
  },
  {
   "cell_type": "code",
   "execution_count": 5,
   "id": "48e92199",
   "metadata": {},
   "outputs": [],
   "source": [
    "# le graphique pour les mêmes valeurs de N, en traçant aussi le tri par insertion\n",
    "import numpy as np\n",
    "\n",
    "# votre code ici"
   ]
  },
  {
   "cell_type": "markdown",
   "id": "2d7055ca",
   "metadata": {},
   "source": [
    "## Prévision du temps de calcul\n",
    "On doit trier une d'un milliard d'entiers (c'est-à-dire $10^9$ entiers). Avant de se lancer dans cette tâche, nous allons prévoir le temps requis pour le faire, avec chacun des algorithmes.\n",
    "\n",
    "### Question 9.\n",
    "Pour chacun des algorithmes, mesurer le temps moyen nécessaire pour trier une liste de 100000 ($10^4$) entiers."
   ]
  },
  {
   "cell_type": "code",
   "execution_count": null,
   "id": "8b90d28c",
   "metadata": {},
   "outputs": [],
   "source": [
    "liste_a_trier = creer_liste_aleatoire(10 ** 4)\n",
    "\n",
    "# votre code ici"
   ]
  },
  {
   "cell_type": "markdown",
   "id": "1a7d8d3d",
   "metadata": {},
   "source": [
    "### Question 10.\n",
    "Compte tenu de la complexité de chaque algorithme, déterminer, par extrapolation à partir des résultats précédents, le temps nécessaire pour effectuer le tri d'une liste de $10^{9}$ entiers. On demande un ordre de grandeur."
   ]
  },
  {
   "cell_type": "code",
   "execution_count": 7,
   "id": "4999fab3",
   "metadata": {},
   "outputs": [],
   "source": [
    "# votre code ici"
   ]
  },
  {
   "cell_type": "markdown",
   "id": "c7fa20e1",
   "metadata": {},
   "source": [
    "### Conclusion.\n",
    "Quel est l'algorihtme le plus efficace parmi ceux que nous avons expérimentés ?"
   ]
  },
  {
   "cell_type": "markdown",
   "id": "89fa4f72",
   "metadata": {},
   "source": [
    "## Pour aller plus loin..."
   ]
  },
  {
   "cell_type": "markdown",
   "id": "fd7e2f62",
   "metadata": {},
   "source": [
    "* implémenter chacun des trois algorithmes dans un autre langage de programmation de votre choix. Comparer alors les temps de traitement avec ceux que vous ave fait en Python.\n",
    "* utiliser la fonction python pré-programmée `sort` et comparer, en temps de traitement, avec l'algorithme que vous avez implémenté avec Python\n",
    "* tester d'autres algorithmes de tri : tri fusion, tri par tas"
   ]
  }
 ],
 "metadata": {
  "kernelspec": {
   "display_name": "Python 3 (ipykernel)",
   "language": "python",
   "name": "python3"
  },
  "language_info": {
   "codemirror_mode": {
    "name": "ipython",
    "version": 3
   },
   "file_extension": ".py",
   "mimetype": "text/x-python",
   "name": "python",
   "nbconvert_exporter": "python",
   "pygments_lexer": "ipython3",
   "version": "3.9.0"
  }
 },
 "nbformat": 4,
 "nbformat_minor": 5
}
