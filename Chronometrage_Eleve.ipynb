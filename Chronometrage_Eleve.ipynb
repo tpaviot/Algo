{
 "cells": [
  {
   "cell_type": "markdown",
   "id": "df55d0a1-aa03-418f-9e4e-d51c332fe075",
   "metadata": {
    "jp-MarkdownHeadingCollapsed": true
   },
   "source": [
    "## Mesure du temps d'exécution : la méthode naïve avec un chronomètre\n",
    "L'objectif de cette courte activité est de mesurer le temps d'exécution de quelques fonctions qui implémentent des algorithmes sur des chaînes de caractères ou des nombres.\n",
    "\n",
    "La technique utilisée est la suivante : on relève la valeur d'un chronomètre juste avant et juste après l'appel à la fonction et on czalcule la différece, appelée `duree`.\n",
    "\n",
    "Si le temps d'exécution est très court, on effectue $N$ fois l'appel à la fonction à l'aide d'une boucle, et on divise la durée totale par N :\n",
    "\n",
    "$ duree = \\frac{N}{t_f - t_i}$"
   ]
  },
  {
   "cell_type": "markdown",
   "id": "2ace14b4-160a-4712-9c32-b1ac4034ca2a",
   "metadata": {},
   "source": [
    "## Utilisation d'un chronomètre avec Python\n",
    "On utilisera le modèle suivant pour mesurer la durée d'une opération :\n",
    "```python\n",
    "from time import perf_counter\n",
    "\n",
    "t_init = perf_counter()\n",
    "\n",
    "# ce dont on souhaite mesurer la durée\n",
    "\n",
    "t_final = perf_counter()\n",
    "duree = t_final - t_init\n",
    "\n",
    "print(f\"Durée : {duree} secondes\")\n",
    "```\n",
    "\n",
    "\n",
    "## Utilisation d'un chronomètre avec c++\n",
    "On utilisera le modèle suivant pour mesurer la durée d'une opération :\n",
    "```c++\n",
    "#include <chrono>\n",
    "#include <iostream>\n",
    "#include <ctime>\n",
    "#include <ratio>\n",
    "\n",
    "int main() {\n",
    "\tusing namespace std::chrono;\n",
    "\n",
    "\thigh_resolution_clock::time_point t_init = high_resolution_clock::now();\n",
    "\t\n",
    "    // ce dont on veut mesurer la durée\n",
    "    \n",
    "\thigh_resolution_clock::time_point t_final = high_resolution_clock::now();\n",
    "\tduration<double> duree = duration_cast<duration<double>>(t_final - t_init);\n",
    "\tstd::cout << \"Duree =\" << duree.count() << \" secondes\" << std::endl ;\n",
    "\n",
    "return 0;\n",
    "}\n",
    "```"
   ]
  },
  {
   "cell_type": "markdown",
   "id": "08380ecd-0ca1-4075-9a87-049419ae8a1b",
   "metadata": {},
   "source": [
    "## Objectif du TP\n",
    "L'objectif de cette activité est de comparer les implémentations python et c++ pour des algorithmes classiques, avec un criètre de temps d'exécution."
   ]
  },
  {
   "cell_type": "markdown",
   "id": "8e5b0e46-6adc-42f2-8057-66ce37b80a3f",
   "metadata": {},
   "source": [
    "## Rappel : Exécution d'un programme c++\n",
    "On rappelle qu'on utilise le compilateur `g++` pour produire les exécutables, dont la syntaxe est la suivante :\n",
    "\n",
    "```bash\n",
    "$ g++ fichier_source.cpp -o executable\n",
    "```\n",
    "\n",
    "vérifier que l'exécutable a été correctement généré avec la commande suivante :\n",
    "```bash\n",
    "$ ls\n",
    "```\n",
    "puis exécuter le programme avec la commande :\n",
    "```\n",
    "$ ./executable\n",
    "```"
   ]
  },
  {
   "cell_type": "code",
   "execution_count": null,
   "id": "bbd16673-06bb-4e11-897d-995c03bdd298",
   "metadata": {},
   "outputs": [],
   "source": [
    "import matplotlib.pyplot as plt"
   ]
  },
  {
   "cell_type": "markdown",
   "id": "defa556f-602c-45f8-9e13-f46e2904835a",
   "metadata": {},
   "source": [
    "### Activité 1. Mesure du temps nécessaire pour comparer deux chaines de 10 caractères avec Python - Méthode `perf_counter`\n",
    "* En utilisant un chronomètre comme expliqué plus haut, effectuer 10000 (dix mille) mesures du temps nécessaire pour comparer deux chaînes de 10 caractères dont seul le dernier diffère\n",
    "* déterminer le temps mini, le temps maxi, le temps moyen\n",
    "* représenter sur un graphique l'ensemble de ces temps de calcul\n",
    "* que constatez-vous ?"
   ]
  },
  {
   "cell_type": "code",
   "execution_count": null,
   "id": "059a3497-ccbb-403c-a710-68467baeeaed",
   "metadata": {
    "scrolled": true
   },
   "outputs": [],
   "source": [
    "# votre code ici"
   ]
  },
  {
   "cell_type": "markdown",
   "id": "894f103b-86c3-47ee-a88e-087d20aaffbe",
   "metadata": {},
   "source": [
    "### Activité 2. Mesure du temps nécessaire pour calculer le sinus d'un nombre flottant avec Python - Méthode `time_it`\n",
    "\n",
    "En utilisant le module `timeit`, \n",
    "```python\n",
    "timer = timeit.Timer(lambda : \"abcdefghij\" == \"abcdefghik\")\n",
    "elapsed = timer.timeit(N)\n",
    "```\n",
    "effectuer la mesure et trouver le temps moyen"
   ]
  },
  {
   "cell_type": "code",
   "execution_count": null,
   "id": "7b782733-73d5-4e8f-a6b1-2c15585ca5fb",
   "metadata": {},
   "outputs": [],
   "source": [
    "# votre code ici"
   ]
  },
  {
   "cell_type": "markdown",
   "id": "80f188cb-1d7a-40a6-8890-95b05c8c7855",
   "metadata": {},
   "source": [
    "### Activité 3. Mesure du temps nécessaire pour calculer un sinus avec la méthode cProfile\n",
    "\n",
    "cProfile est le profiler intégré à Python.\n",
    "```python\n",
    "import cProfile\n",
    "\n",
    "def ff():\n",
    "    for i in range(N):\n",
    "        \"abcdefghij\" == \"abcdefghik\"\n",
    "cProfile.run('ff()')\n",
    "```"
   ]
  },
  {
   "cell_type": "code",
   "execution_count": null,
   "id": "81529a8c-e767-4949-9bb1-e0bff35e8286",
   "metadata": {},
   "outputs": [],
   "source": [
    "# votre code ici"
   ]
  },
  {
   "cell_type": "markdown",
   "id": "1bb9c099-c26d-44e9-a7f6-db67ebd44512",
   "metadata": {},
   "source": [
    "### Décorateur `time_it`"
   ]
  },
  {
   "cell_type": "code",
   "execution_count": null,
   "id": "9ac01229-bc31-46fe-9597-8c700e92a533",
   "metadata": {},
   "outputs": [],
   "source": [
    "import time\n",
    "import random\n",
    "\n",
    "def timeit(func):\n",
    "    def wrapper(*args, **kwargs):\n",
    "        start = time.perf_counter()\n",
    "        result = func(*args, **kwargs)\n",
    "        end = time.perf_counter()\n",
    "        elapsed = end - start\n",
    "        print(f'Time taken: {elapsed:.6f} seconds')\n",
    "        return result\n",
    "    return wrapper\n",
    "\n",
    "@timeit\n",
    "def calculate_pi(n):\n",
    "    \"\"\"Calculate and return an approximation of pi using the Monte Carlo method.\"\"\"\n",
    "    inside = 0\n",
    "    for i in range(n):\n",
    "        x = random.uniform(-1, 1)\n",
    "        y = random.uniform(-1, 1)\n",
    "        if x ** 2 + y ** 2 <= 1:\n",
    "            inside += 1\n",
    "    pi = (inside / n) * 4\n",
    "    return pi\n",
    "\n",
    "pi = calculate_pi(1000000)\n",
    "print(pi)"
   ]
  },
  {
   "cell_type": "markdown",
   "id": "77bcd7a0-3e30-4dce-b9e7-728d5cf59b17",
   "metadata": {},
   "source": [
    "### Activité 4. Comparaison c++/python\n",
    "En utilisant un chronomètre c++, comparer les résultats obtenus avec Pythoni pour l'activité 1. Note: Vous pourrez augmenter N."
   ]
  }
 ],
 "metadata": {
  "kernelspec": {
   "display_name": "Python 3 (ipykernel)",
   "language": "python",
   "name": "python3"
  },
  "language_info": {
   "codemirror_mode": {
    "name": "ipython",
    "version": 3
   },
   "file_extension": ".py",
   "mimetype": "text/x-python",
   "name": "python",
   "nbconvert_exporter": "python",
   "pygments_lexer": "ipython3",
   "version": "3.9.0"
  }
 },
 "nbformat": 4,
 "nbformat_minor": 5
}
