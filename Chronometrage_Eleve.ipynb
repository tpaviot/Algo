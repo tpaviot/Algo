{
 "cells": [
  {
   "cell_type": "markdown",
   "id": "df55d0a1-aa03-418f-9e4e-d51c332fe075",
   "metadata": {
    "jp-MarkdownHeadingCollapsed": true
   },
   "source": [
    "## Mesure du temps d'exécution : la méthode naïve avec un chronomètre\n",
    "L'objectif de cette courte activité est de mesurer le temps d'exécution de quelques fonctions qui implémentent des algorithmes sur des chaînes de caractères ou des nombres.\n",
    "\n",
    "La technique utilisée est la suivante : on relève la valeur d'un chronomètre juste avant et juste après l'appel à la fonction et on czalcule la différece, appelée `duree`.\n",
    "\n",
    "Si le temps d'exécution est très court, on effectue $N$ fois l'appel à la fonction à l'aide d'une boucle, et on divise la durée totale par N :\n",
    "\n",
    "$ duree = \\frac{N}{t_f - t_i}$"
   ]
  },
  {
   "cell_type": "markdown",
   "id": "2ace14b4-160a-4712-9c32-b1ac4034ca2a",
   "metadata": {},
   "source": [
    "## Utilisation d'un chronomètre avec Python\n",
    "On utilisera le modèle suivant pour mesurer la durée d'une opération :\n",
    "```python\n",
    "from time import perf_counter\n",
    "\n",
    "t_init = perf_counter()\n",
    "\n",
    "# ce dont on souhaite mesurer la durée\n",
    "\n",
    "t_final = perf_counter()\n",
    "duree = t_final - t_init\n",
    "\n",
    "print(f\"Durée : {duree} secondes\")\n",
    "```\n",
    "\n",
    "\n",
    "## Utilisation d'un chronomètre avec c++\n",
    "On utilisera le modèle suivant pour mesurer la durée d'une opération :\n",
    "```c++\n",
    "#include <chrono>\n",
    "#include <iostream>\n",
    "#include <ctime>\n",
    "#include <ratio>\n",
    "\n",
    "int main() {\n",
    "\tusing namespace std::chrono;\n",
    "\n",
    "\thigh_resolution_clock::time_point t_init = high_resolution_clock::now();\n",
    "\t\n",
    "    // ce dont on veut mesurer la durée\n",
    "    \n",
    "\thigh_resolution_clock::time_point t_final = high_resolution_clock::now();\n",
    "\tduration<double> duree = duration_cast<duration<double>>(t_final - t_init);\n",
    "\tstd::cout << \"Duree =\" << duree.count() << \" secondes\" << std::endl ;\n",
    "\n",
    "return 0;\n",
    "}\n",
    "```"
   ]
  },
  {
   "cell_type": "markdown",
   "id": "08380ecd-0ca1-4075-9a87-049419ae8a1b",
   "metadata": {},
   "source": [
    "## Objectif du TP\n",
    "L'objectif de cette activité est de comparer les implémentations python et c++ pour des algorithmes classiques, avec un criètre de temps d'exécution."
   ]
  },
  {
   "cell_type": "markdown",
   "id": "8e5b0e46-6adc-42f2-8057-66ce37b80a3f",
   "metadata": {},
   "source": [
    "## Rappel : Exécution d'un programme c++\n",
    "On rappelle qu'on utilise le compilateur `g++` pour produire les exécutables, dont la syntaxe est la suivante :\n",
    "\n",
    "```bash\n",
    "$ g++ fichier_source.cpp -o executable\n",
    "```\n",
    "\n",
    "vérifier que l'exécutable a été correctement généré avec la commande suivante :\n",
    "```bash\n",
    "$ ls\n",
    "```\n",
    "puis exécuter le programme avec la commande :\n",
    "```\n",
    "$ ./executable\n",
    "```"
   ]
  },
  {
   "cell_type": "markdown",
   "id": "157578e0-6b33-4668-b1e0-d0b60e515420",
   "metadata": {},
   "source": [
    "### Activité 1. Mesure du temps nécessaire pour calculer le sinus d'un nombre flottant\n",
    "En utilisant un chronomètre, mesurer le temps moyen nécessaire pour calculer le sinus d'un nombre flottant. Vous produirez un programme python et un programme c++ qui donne ce résultat en microsecondes, avec 3 chiffres après la virgule."
   ]
  },
  {
   "cell_type": "markdown",
   "id": "87af86db-619d-4f4d-8659-53d0eda70d28",
   "metadata": {},
   "source": [
    "### Activité 2. Temps d'exécution de l'algorithme de tri python implémenté dans la fonction `sorted`\n",
    "\n",
    "\n",
    "Python propose nativement la méthode `sorted` pour trier une liste. D'après la documentation, elle utilise l'algorithme Timsort (https://en.wikipedia.org/wiki/Timsort) dérivé des tri fusion et par insertion ().\n",
    "\n",
    "* Programmer un programme Python qui mesure la temps d'exécution de la fonction `sorted()` pour des listes d'entiers tirées au hasard.\n",
    "* Présenter ces résultats sur un graphique matplotlib.\n"
   ]
  },
  {
   "cell_type": "markdown",
   "id": "da3acaaa-5284-42c5-8954-10e64db4c1e3",
   "metadata": {},
   "source": [
    "### Activité 3.\n",
    "On vous demande de réaliser ces deux activités avec c++ ou un autre langage de votre choix. Pour tracer un graphique, vous utiliserez la méthode suivante :\n",
    "* l'ensemble des résultats sont exportés dans un fichier au format CSV `resultats.csv`\n",
    "* le fichier csv sera chargé dans Excel ou LibreOffice pour la réalisation du graphique."
   ]
  }
 ],
 "metadata": {
  "kernelspec": {
   "display_name": "Python 3 (ipykernel)",
   "language": "python",
   "name": "python3"
  },
  "language_info": {
   "codemirror_mode": {
    "name": "ipython",
    "version": 3
   },
   "file_extension": ".py",
   "mimetype": "text/x-python",
   "name": "python",
   "nbconvert_exporter": "python",
   "pygments_lexer": "ipython3",
   "version": "3.9.0"
  }
 },
 "nbformat": 4,
 "nbformat_minor": 5
}
